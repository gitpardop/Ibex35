{
 "cells": [
  {
   "cell_type": "markdown",
   "id": "impossible-measurement",
   "metadata": {},
   "source": [
    "# Return purchase panel"
   ]
  },
  {
   "cell_type": "code",
   "execution_count": 1,
   "id": "happy-holder",
   "metadata": {},
   "outputs": [
    {
     "name": "stderr",
     "output_type": "stream",
     "text": [
      "C:\\Users\\Usuario\\anaconda3\\lib\\site-packages\\pandas_datareader\\base.py:272: SymbolWarning: Failed to read symbol: 'BKIA.MC', replacing with NaN.\n",
      "  warnings.warn(msg.format(sym), SymbolWarning)\n"
     ]
    }
   ],
   "source": [
    "from pandas_datareader import data\n",
    "import matplotlib.pyplot as plt\n",
    "import pandas as pd\n",
    "import numpy as np\n",
    "import seaborn as sns\n",
    "from datetime import date\n",
    "from datetime import datetime\n",
    "\n",
    "pd.set_option('display.max_columns', 500)\n",
    "\n",
    "\n",
    "Symbols  = [\"BBVA.MC\", \"MEL.MC\",\"TEF.MC\",\"ACS.MC\",\"SAN.MC\",\"SAB.MC\", \"ITX.MC\", \"ANA.MC\", \"GRF.MC\", \"AENA.MC\",\n",
    " \"FER.MC\",\"BKT.MC\", \"IBE.MC\",\"ACX.MC\",\"MTS.MC\", \"REE.MC\", \"AMS.MC\", \"VIS.MC\", \"IAG.MC\", \"SGRE.MC\",\"MAP.MC\",\n",
    " \"COL.MC\", \"PHM.MC\", \"CLNX.MC\", \"ENG.MC\",  \"ELE.MC\", \"NTGY.MC\",\"REP.MC\", \"MRL.MC\",\"CABK.MC\", \"BKIA.MC\", \n",
    " \"CIE.MC\",\"IDR.MC\",\"SLR.MC\", \"ALM.MC\"]\n",
    "\n",
    "\n",
    "\n",
    "Names = [\"Banco Bilbao Vizcaya Argentaria, S.A.\",\"Meliá Hotels International, S.A.\",\n",
    "\"Telefónica, S.A.\",\"ACS, Actividades de Construcción y Servicios, S.A.\",\"Banco Santander, S.A.\",\n",
    "\"Banco de Sabadell, S.A.\",\"Industria de Diseño Textil, S.A.\",\"Acciona, S.A.\",\"Grifols, S.A.\",\n",
    "\"Aena S.M.E., S.A.\",\"Ferrovial, S.A.\",\"Bankinter, S.A.\",\"Iberdrola, S.A.\",\"Acerinox, S.A.\",\"ArcelorMittal\",\"Red Eléctrica Corporación, S.A.\",\n",
    "\"Amadeus IT Group, S.A.\",\"Viscofan, S.A.\",\"International Consolidated Airlines Group, S.A.\",\"Siemens Gamesa Renewable Energy, S.A.\",\n",
    "\"Mapfre, S.A.\",\"Inmobiliaria Colonial, SOCIMI, S.A.\",\"Pharma Mar, S.A.\",\"Cellnex Telecom, S.A.\",\"Enagás, S.A.\",\n",
    "\"Endesa, Sociedad Anonima\",\"Naturgy Energy Group, S.A.\",\"Repsol, S.A.\",\n",
    "\"MERLIN Properties SOCIMI, S.A.\",\"CaixaBank, S.A.\",\"Bankia\",\"CIE Automotive\", \"Indra\",\"Solaria Energía y Medio Ambiente, S.A.\",\n",
    "\"Almirall, S.A\"]\n",
    "\n",
    "\n",
    "IbexNames = pd.DataFrame(\n",
    "{\n",
    "    'Companie' : Names,\n",
    "    'Symbol' : Symbols\n",
    "})\n",
    "\n",
    "\n",
    "# If I want to always take data from 3 months ago\n",
    "\n",
    "DATE = str(date.today().day) + '-' + str(date.today().month - 3) + '-' + str(date.today().year)\n",
    "\n",
    "panel_data = data.DataReader(Symbols, 'yahoo', start= DATE)\n",
    "\n",
    "\n",
    "df = pd.DataFrame(panel_data['Adj Close'])"
   ]
  },
  {
   "cell_type": "code",
   "execution_count": 2,
   "id": "composite-handling",
   "metadata": {},
   "outputs": [],
   "source": [
    "empty_df = pd.DataFrame()\n",
    "\n",
    "for i in Symbols:\n",
    "    rent =  np.diff(np.log(df[i]))\n",
    "    x = i \n",
    "    #print(x)\n",
    "    empty_df[x] = np.where(rent < np.quantile(rent, 0.15),  1, 0)\n",
    "    #y = i + '_sell'\n",
    "    #profits[y] = np.where(rent > np.quantile(rent, 0.75),  np.diff(data[i]), 0)"
   ]
  },
  {
   "cell_type": "code",
   "execution_count": 3,
   "id": "emerging-computer",
   "metadata": {},
   "outputs": [
    {
     "data": {
      "text/html": [
       "<div>\n",
       "<style scoped>\n",
       "    .dataframe tbody tr th:only-of-type {\n",
       "        vertical-align: middle;\n",
       "    }\n",
       "\n",
       "    .dataframe tbody tr th {\n",
       "        vertical-align: top;\n",
       "    }\n",
       "\n",
       "    .dataframe thead th {\n",
       "        text-align: right;\n",
       "    }\n",
       "</style>\n",
       "<table border=\"1\" class=\"dataframe\">\n",
       "  <thead>\n",
       "    <tr style=\"text-align: right;\">\n",
       "      <th></th>\n",
       "      <th>Symbols</th>\n",
       "      <th>purchase</th>\n",
       "      <th>2021-08-31 00:00:00</th>\n",
       "    </tr>\n",
       "  </thead>\n",
       "  <tbody>\n",
       "    <tr>\n",
       "      <th>23</th>\n",
       "      <td>CLNX.MC</td>\n",
       "      <td>1</td>\n",
       "      <td>58.48</td>\n",
       "    </tr>\n",
       "  </tbody>\n",
       "</table>\n",
       "</div>"
      ],
      "text/plain": [
       "    Symbols  purchase  2021-08-31 00:00:00\n",
       "23  CLNX.MC         1                58.48"
      ]
     },
     "execution_count": 3,
     "metadata": {},
     "output_type": "execute_result"
    }
   ],
   "source": [
    "# get today value\n",
    "purchase_serie = pd.DataFrame(empty_df.iloc[-1, :])\n",
    "\n",
    "purchase_serie.reset_index(inplace = True)\n",
    "purchase_serie.set_axis(['Symbols', 'purchase'], axis=1, inplace=True)\n",
    "\n",
    "\n",
    "# get the prices\n",
    "prices = pd.DataFrame(df.iloc[-1, :])\n",
    "prices.reset_index(inplace= True)\n",
    "\n",
    "purchase_serie = purchase_serie.merge(prices, on = 'Symbols', how = 'inner')\n",
    "\n",
    "purchase_serie[purchase_serie['purchase'] == 1]"
   ]
  },
  {
   "cell_type": "code",
   "execution_count": null,
   "id": "substantial-savannah",
   "metadata": {
    "scrolled": true
   },
   "outputs": [],
   "source": [
    "\n"
   ]
  },
  {
   "cell_type": "code",
   "execution_count": null,
   "id": "supported-commitment",
   "metadata": {
    "scrolled": true
   },
   "outputs": [],
   "source": [
    "\n"
   ]
  },
  {
   "cell_type": "code",
   "execution_count": null,
   "id": "communist-status",
   "metadata": {
    "scrolled": true
   },
   "outputs": [],
   "source": []
  },
  {
   "cell_type": "code",
   "execution_count": null,
   "id": "collect-grace",
   "metadata": {
    "scrolled": true
   },
   "outputs": [],
   "source": []
  },
  {
   "cell_type": "code",
   "execution_count": null,
   "id": "opening-flashing",
   "metadata": {},
   "outputs": [],
   "source": []
  },
  {
   "cell_type": "code",
   "execution_count": null,
   "id": "agricultural-atlas",
   "metadata": {},
   "outputs": [],
   "source": []
  }
 ],
 "metadata": {
  "kernelspec": {
   "display_name": "Python 3",
   "language": "python",
   "name": "python3"
  },
  "language_info": {
   "codemirror_mode": {
    "name": "ipython",
    "version": 3
   },
   "file_extension": ".py",
   "mimetype": "text/x-python",
   "name": "python",
   "nbconvert_exporter": "python",
   "pygments_lexer": "ipython3",
   "version": "3.8.3"
  }
 },
 "nbformat": 4,
 "nbformat_minor": 5
}
